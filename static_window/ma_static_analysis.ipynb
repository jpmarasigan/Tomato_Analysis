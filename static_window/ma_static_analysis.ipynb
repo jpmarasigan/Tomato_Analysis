{
 "cells": [
  {
   "cell_type": "code",
   "execution_count": 33,
   "metadata": {},
   "outputs": [],
   "source": [
    "import pandas as pd\n",
    "import json"
   ]
  },
  {
   "cell_type": "markdown",
   "metadata": {},
   "source": [
    "<strong>Fetch</strong> tomato sensors data from JSON into dataframe"
   ]
  },
  {
   "cell_type": "code",
   "execution_count": null,
   "metadata": {},
   "outputs": [],
   "source": [
    "# Load the JSON data\n",
    "with open('../private/mock_sample_data.json', 'r') as file:\n",
    "    data = json.load(file)\n",
    "\n",
    "# Convert JSON data to DataFrame\n",
    "df = pd.DataFrame(data)\n",
    "\n",
    "# Convert date column to datetime\n",
    "df['date'] = pd.to_datetime(df['date'])\n",
    "\n",
    "# Sort DataFrame by date\n",
    "df = df.sort_values('date')\n",
    "\n",
    "# print(df)"
   ]
  },
  {
   "cell_type": "markdown",
   "metadata": {},
   "source": [
    "<p><strong>Functions</strong> for getting daily, weekly, monthly data and analysis</p>"
   ]
  },
  {
   "cell_type": "code",
   "execution_count": null,
   "metadata": {},
   "outputs": [],
   "source": [
    "def moving_window_analysis(df, window_size, column, interval):\n",
    "    if interval.lower() != 'daily':\n",
    "        df[f'{column}_{interval}_mean'] = df[column].rolling(window=window_size).mean()\n",
    "        df[f'{column}_{interval}_std'] = df[column].rolling(window=window_size).std()\n",
    "        df[f'{column}_{interval}_rate_change'] = df[column].pct_change(periods=window_size)\n",
    "    return df\n",
    "\n",
    "def check_temperature_condition(rolling_mean):\n",
    "    if rolling_mean < 18 or rolling_mean > 25:\n",
    "        return 'Not Healthy'\n",
    "    else:\n",
    "        return 'Healthy'\n",
    "    \n",
    "def check_humidity_condition(rolling_mean):\n",
    "    if rolling_mean < 18 or rolling_mean > 25:\n",
    "        return 'Not Healthy'\n",
    "    else:\n",
    "        return 'Healthy'\n",
    "    \n",
    "def check_soil_moisture_condition(rolling_mean):\n",
    "    if rolling_mean < 18 or rolling_mean > 25:\n",
    "        return 'Not Healthy'\n",
    "    else:\n",
    "        return 'Healthy'\n",
    "\n",
    "def check_light_condition(rolling_mean):\n",
    "    if rolling_mean < 18 or rolling_mean > 25:\n",
    "        return 'Not Healthy'\n",
    "    else:\n",
    "        return 'Healthy'\n",
    "    \n",
    "# def check_water_requirement_condition(rolling_mean):\n",
    "#     if rolling_mean < 18 or rolling_mean > 25:\n",
    "#         return 'Not Healthy'\n",
    "#     else:\n",
    "#         return 'Healthy'\n",
    "\n",
    "def sensor_condition_output(df):\n",
    "    # Temperature daily, weekly, monthly\n",
    "    df['temperature_condition'] = df.apply(\n",
    "        lambda row: {\n",
    "            'daily': check_temperature_condition(row['temperature']),\n",
    "            'weekly': check_temperature_condition(row['temperature_weekly_mean']) if row['is_week_end'] else None,\n",
    "            'monthly': check_temperature_condition(row['temperature_monthly_mean']) if row['is_month_end'] else None,\n",
    "        },\n",
    "        axis=1\n",
    "    )\n",
    "    # Humidity daily, weekly, monthly\n",
    "    df['humidity_condition'] = df.apply(\n",
    "        lambda row: {\n",
    "            'daily': check_humidity_condition(row['humidity']),\n",
    "            'weekly': check_humidity_condition(row['humidity_weekly_mean']) if row['is_week_end'] else None,\n",
    "            'monthly': check_humidity_condition(row['humidity_monthly_mean']) if row['is_month_end'] else None,\n",
    "        },\n",
    "        axis=1\n",
    "    )\n",
    "    # Soil moisture daily, weekly, monthly\n",
    "    df['soil_moisture_condition'] = df.apply(\n",
    "        lambda row: {\n",
    "            'daily': check_soil_moisture_condition(row['soil_moisture']),\n",
    "            'weekly': check_soil_moisture_condition(row['soil_moisture_weekly_mean']) if row['is_week_end'] else None,\n",
    "            'monthly': check_soil_moisture_condition(row['soil_moisture_monthly_mean']) if row['is_month_end'] else None,\n",
    "        },\n",
    "        axis=1\n",
    "    )\n",
    "    # Light daily, weekly, monthly\n",
    "    df['light_condition'] = df.apply(\n",
    "        lambda row: {\n",
    "            'daily': check_light_condition(row['light']),\n",
    "            'weekly': check_light_condition(row['light_weekly_mean']) if row['is_week_end'] else None,\n",
    "            'monthly': check_light_condition(row['light_monthly_mean']) if row['is_month_end'] else None,\n",
    "        },\n",
    "        axis=1\n",
    "    )\n",
    "    # Water Requirement daily, weekly, monthly\n",
    "    # df['water_requirement_condition'] = df.apply(\n",
    "    #     lambda row: {\n",
    "    #         'daily': check_water_requirement_condition(row['water_requirement']),\n",
    "    #         'weekly': check_water_requirement_condition(row['water_requirement_weekly_mean']) if row['is_week_end'] else None,\n",
    "    #         'monthly': check_water_requirement_condition(row['water_requirement_monthly_mean']) if row['is_month_end'] else None,\n",
    "    #     },\n",
    "    #     axis=1\n",
    "    # )\n",
    "    return df"
   ]
  },
  {
   "cell_type": "markdown",
   "metadata": {},
   "source": [
    "<p><strong>Apply window analysis</strong> on each sensors data</p>"
   ]
  },
  {
   "cell_type": "code",
   "execution_count": 40,
   "metadata": {},
   "outputs": [],
   "source": [
    "# Apply moving window analysis on sensors \n",
    "# for a daily, weekly, and monthly time frame\n",
    "df = moving_window_analysis(df, 1, 'temperature', 'daily')\n",
    "df = moving_window_analysis(df, 7, 'temperature', 'weekly')\n",
    "df = moving_window_analysis(df, 30, 'temperature', 'monthly')\n",
    "df = moving_window_analysis(df, 1, 'humidity', 'daily')\n",
    "df = moving_window_analysis(df, 7, 'humidity', 'weekly')\n",
    "df = moving_window_analysis(df, 30, 'humidity', 'monthly')\n",
    "df = moving_window_analysis(df, 1, 'soil_moisture', 'daily')\n",
    "df = moving_window_analysis(df, 7, 'soil_moisture', 'weekly')\n",
    "df = moving_window_analysis(df, 30, 'soil_moisture', 'monthly')\n",
    "df = moving_window_analysis(df, 1, 'light', 'daily')\n",
    "df = moving_window_analysis(df, 7, 'light', 'weekly')\n",
    "df = moving_window_analysis(df, 30, 'light', 'monthly')\n",
    "df = moving_window_analysis(df, 1, 'water_requirement', 'daily')\n",
    "df = moving_window_analysis(df, 7, 'water_requirement', 'weekly')\n",
    "df = moving_window_analysis(df, 30, 'water_requirement', 'monthly')\n",
    "\n",
    "# Mark every nth day per week and month (starts from 0)\n",
    "df['is_week_end'] = (df.index % 7 == 6)   \n",
    "df['is_month_end'] = (df.index % 30 == 29) \n",
    "\n",
    "# Get sensor condition output in all time frame\n",
    "df = sensor_condition_output(df)"
   ]
  },
  {
   "cell_type": "code",
   "execution_count": 41,
   "metadata": {},
   "outputs": [],
   "source": [
    "columns_order = [\n",
    "    'date',\n",
    "    'temperature', 'temperature_weekly_mean', 'temperature_weekly_std', 'temperature_weekly_rate_change', 'temperature_monthly_mean', 'temperature_monthly_std', 'temperature_monthly_rate_change', 'temperature_condition',\n",
    "    'humidity', 'humidity_weekly_mean', 'humidity_weekly_std', 'humidity_weekly_rate_change', 'humidity_monthly_mean', 'humidity_monthly_std', 'humidity_monthly_rate_change', 'humidity_condition',\n",
    "    'soil_moisture', 'soil_moisture_weekly_mean', 'soil_moisture_weekly_std', 'soil_moisture_weekly_rate_change', 'soil_moisture_monthly_mean', 'soil_moisture_monthly_std', 'soil_moisture_monthly_rate_change', 'soil_moisture_condition',\n",
    "    'light', 'light_weekly_mean', 'light_weekly_std', 'light_weekly_rate_change', 'light_monthly_mean', 'light_monthly_std', 'light_monthly_rate_change', 'light_condition',\n",
    "    'water_requirement', 'water_requirement_weekly_mean', 'water_requirement_weekly_std', 'water_requirement_weekly_rate_change', 'water_requirement_monthly_mean', 'water_requirement_monthly_std', 'water_requirement_monthly_rate_change', 'water_requirement_condition',\n",
    "    'is_week_end', 'is_month_end'   \n",
    "]\n",
    "\n",
    "# Rearrange columns order to the desired order\n",
    "df = df[columns_order]"
   ]
  },
  {
   "cell_type": "code",
   "execution_count": 42,
   "metadata": {},
   "outputs": [],
   "source": [
    "# Print in text file \n",
    "with open('./fixed_stats_log.txt', 'w') as f:\n",
    "    f.write(df.to_string())"
   ]
  }
 ],
 "metadata": {
  "kernelspec": {
   "display_name": ".venv",
   "language": "python",
   "name": "python3"
  },
  "language_info": {
   "codemirror_mode": {
    "name": "ipython",
    "version": 3
   },
   "file_extension": ".py",
   "mimetype": "text/x-python",
   "name": "python",
   "nbconvert_exporter": "python",
   "pygments_lexer": "ipython3",
   "version": "3.11.2"
  }
 },
 "nbformat": 4,
 "nbformat_minor": 2
}
